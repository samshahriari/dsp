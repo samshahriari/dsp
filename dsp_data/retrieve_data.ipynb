{
 "cells": [
  {
   "cell_type": "code",
   "execution_count": 4,
   "metadata": {},
   "outputs": [
    {
     "name": "stdout",
     "output_type": "stream",
     "text": [
      "\n",
      "👋 Hello! This is openneuro-py 2024.2.0. Great to see you! 🤗\n",
      "\n",
      "   👉 Please report problems 🤯 and bugs 🪲 at\n",
      "      https://github.com/hoechenberger/openneuro-py/issues\n",
      "\n",
      "🌍 Preparing to download ds004504 …\n",
      "Cannot determine local revision of the dataset, and the target directory is not empty. If the download fails, you may want to try again with a fresh (empty) target directory.\n"
     ]
    },
    {
     "name": "stderr",
     "output_type": "stream",
     "text": [
      "📁 Traversing directories for ds004504 : 357 entities [01:26,  4.11 entities/s]"
     ]
    },
    {
     "name": "stdout",
     "output_type": "stream",
     "text": [
      "📥 Retrieving up to 357 files (5 concurrent downloads). \n",
      "✅ Finished downloading ds004504.\n",
      " \n",
      "🧠 Please enjoy your brains.\n",
      " \n",
      "Dataset ds004504 has been downloaded to the current directory.\n"
     ]
    },
    {
     "name": "stderr",
     "output_type": "stream",
     "text": [
      "\n"
     ]
    }
   ],
   "source": [
    "import openneuro as on\n",
    "\n",
    "# Dataset ID\n",
    "dataset_id = 'ds004504'\n",
    "\n",
    "# Download the dataset to the current directory\n",
    "on.download(dataset=dataset_id, target_dir='./')\n",
    "\n",
    "print(f'Dataset {dataset_id} has been downloaded to the current directory.')\n",
    "\n"
   ]
  }
 ],
 "metadata": {
  "kernelspec": {
   "display_name": "Python 3",
   "language": "python",
   "name": "python3"
  },
  "language_info": {
   "codemirror_mode": {
    "name": "ipython",
    "version": 3
   },
   "file_extension": ".py",
   "mimetype": "text/x-python",
   "name": "python",
   "nbconvert_exporter": "python",
   "pygments_lexer": "ipython3",
   "version": "3.10.1"
  }
 },
 "nbformat": 4,
 "nbformat_minor": 2
}
